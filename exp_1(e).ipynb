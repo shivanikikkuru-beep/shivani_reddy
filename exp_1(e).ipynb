{
  "nbformat": 4,
  "nbformat_minor": 0,
  "metadata": {
    "colab": {
      "provenance": [],
      "authorship_tag": "ABX9TyMJ99W42lvadypghTvx87Kb",
      "include_colab_link": true
    },
    "kernelspec": {
      "name": "python3",
      "display_name": "Python 3"
    },
    "language_info": {
      "name": "python"
    }
  },
  "cells": [
    {
      "cell_type": "markdown",
      "metadata": {
        "id": "view-in-github",
        "colab_type": "text"
      },
      "source": [
        "<a href=\"https://colab.research.google.com/github/shivanikikkuru-beep/shivani_reddy/blob/main/exp_1(e).ipynb\" target=\"_parent\"><img src=\"https://colab.research.google.com/assets/colab-badge.svg\" alt=\"Open In Colab\"/></a>"
      ]
    },
    {
      "cell_type": "code",
      "execution_count": 1,
      "metadata": {
        "colab": {
          "base_uri": "https://localhost:8080/"
        },
        "id": "I_dnNkYEwHjq",
        "outputId": "339d8a7f-985a-434c-c5ff-c65fbe370041"
      },
      "outputs": [
        {
          "name": "stdout",
          "output_type": "stream",
          "text": [
            "\n",
            "\t\t RAIL FENCE TECHNIQUE\n",
            "\n",
            "Enter the input string: scsvmv\n",
            "\n",
            "Cipher text after applying Rail Fence:\n",
            "ssmcvv\n",
            "\n",
            "Text after decryption:\n",
            "scsvmv\n",
            "\n",
            "Press Enter to continue...university\n"
          ]
        }
      ],
      "source": [
        "import sys\n",
        "\n",
        "def main():\n",
        "    print(\"\\n\\t\\t RAIL FENCE TECHNIQUE\")\n",
        "\n",
        "    a = input(\"\\nEnter the input string: \")\n",
        "    l = len(a)\n",
        "\n",
        "    # Ciphering (Encryption)\n",
        "    c = ''.join([a[i] for i in range(l) if i % 2 == 0])\n",
        "    c += ''.join([a[i] for i in range(l) if i % 2 == 1])\n",
        "\n",
        "    print(\"\\nCipher text after applying Rail Fence:\")\n",
        "    print(c)\n",
        "\n",
        "    # Deciphering (Decryption)\n",
        "    k = l // 2 if l % 2 == 0 else (l // 2) + 1\n",
        "    d = [''] * l\n",
        "\n",
        "    for i in range(k):\n",
        "        d[i * 2] = c[i]\n",
        "    for i in range(k, l):\n",
        "        d[(i - k) * 2 + 1] = c[i]\n",
        "\n",
        "    d = ''.join(d)\n",
        "    print(\"\\nText after decryption:\")\n",
        "    print(d)\n",
        "\n",
        "    input(\"\\nPress Enter to continue...\")\n",
        "\n",
        "if __name__ == \"__main__\":\n",
        "    main()\n",
        "\n"
      ]
    }
  ]
}