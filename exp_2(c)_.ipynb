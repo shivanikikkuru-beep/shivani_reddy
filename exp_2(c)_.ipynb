{
  "nbformat": 4,
  "nbformat_minor": 0,
  "metadata": {
    "colab": {
      "provenance": [],
      "authorship_tag": "ABX9TyMd85gBWbK7hGXwwEbRNCdm",
      "include_colab_link": true
    },
    "kernelspec": {
      "name": "python3",
      "display_name": "Python 3"
    },
    "language_info": {
      "name": "python"
    }
  },
  "cells": [
    {
      "cell_type": "markdown",
      "metadata": {
        "id": "view-in-github",
        "colab_type": "text"
      },
      "source": [
        "<a href=\"https://colab.research.google.com/github/shivanikikkuru-beep/shivani_reddy/blob/main/exp_2(c)_.ipynb\" target=\"_parent\"><img src=\"https://colab.research.google.com/assets/colab-badge.svg\" alt=\"Open In Colab\"/></a>"
      ]
    },
    {
      "cell_type": "code",
      "execution_count": 1,
      "metadata": {
        "colab": {
          "base_uri": "https://localhost:8080/"
        },
        "id": "uPXXHRp30vSa",
        "outputId": "fee45f47-6a9c-4ad9-bd03-dde8e3db8343"
      },
      "outputs": [
        {
          "output_type": "stream",
          "name": "stdout",
          "text": [
            "Enter the value of n (prime number): 5\n",
            "Enter the value of g (generator): 8\n",
            "Enter the private key x for the first person: 7\n",
            "Enter the private key y for the second person: 3\n",
            "\n",
            "Public key for the first person (A): 2\n",
            "Public key for the second person (B): 2\n",
            "\n",
            "Shared secret key for the first person: 3\n",
            "Shared secret key for the second person: 3\n"
          ]
        }
      ],
      "source": [
        "def power(a, b, mod):\n",
        "    \"\"\"Calculates (a^b) % mod using recursive exponentiation by squaring.\"\"\"\n",
        "    if b == 1:\n",
        "        return a % mod\n",
        "    t = power(a, b // 2, mod)\n",
        "    if b % 2 == 0:\n",
        "        return (t * t) % mod\n",
        "    else:\n",
        "        return ((t * t) % mod * a) % mod\n",
        "\n",
        "\n",
        "def main():\n",
        "    # Input values\n",
        "    n = int(input(\"Enter the value of n (prime number): \"))\n",
        "    g = int(input(\"Enter the value of g (generator): \"))\n",
        "\n",
        "    x = int(input(\"Enter the private key x for the first person: \"))\n",
        "    a = power(g, x, n)\n",
        "\n",
        "    y = int(input(\"Enter the private key y for the second person: \"))\n",
        "    b = power(g, y, n)\n",
        "\n",
        "    # Calculate the shared keys\n",
        "    key1 = power(b, x, n)  # Key for the first person\n",
        "    key2 = power(a, y, n)  # Key for the second person\n",
        "\n",
        "    print(f\"\\nPublic key for the first person (A): {a}\")\n",
        "    print(f\"Public key for the second person (B): {b}\")\n",
        "    print(f\"\\nShared secret key for the first person: {key1}\")\n",
        "    print(f\"Shared secret key for the second person: {key2}\")\n",
        "\n",
        "\n",
        "if __name__ == \"__main__\":\n",
        "    main()\n"
      ]
    }
  ]
}