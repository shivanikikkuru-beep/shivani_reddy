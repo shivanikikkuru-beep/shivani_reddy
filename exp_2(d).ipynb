{
  "nbformat": 4,
  "nbformat_minor": 0,
  "metadata": {
    "colab": {
      "provenance": [],
      "authorship_tag": "ABX9TyMrcwlMlHO7gEklgNcAhpZ8",
      "include_colab_link": true
    },
    "kernelspec": {
      "name": "python3",
      "display_name": "Python 3"
    },
    "language_info": {
      "name": "python"
    }
  },
  "cells": [
    {
      "cell_type": "markdown",
      "metadata": {
        "id": "view-in-github",
        "colab_type": "text"
      },
      "source": [
        "<a href=\"https://colab.research.google.com/github/shivanikikkuru-beep/shivani_reddy/blob/main/exp_2(d).ipynb\" target=\"_parent\"><img src=\"https://colab.research.google.com/assets/colab-badge.svg\" alt=\"Open In Colab\"/></a>"
      ]
    },
    {
      "cell_type": "code",
      "execution_count": 1,
      "metadata": {
        "colab": {
          "base_uri": "https://localhost:8080/"
        },
        "id": "nBBnARKF1gM0",
        "outputId": "6376b8f8-8e15-4a52-caa4-167fc79aca70"
      },
      "outputs": [
        {
          "output_type": "stream",
          "name": "stdout",
          "text": [
            "\tMD5 ENCRYPTION ALGORITHM IN PYTHON\n",
            "\n",
            "Input String to be Encrypted using MD5:\n",
            "\tThe quick brown fox jumps over the lazy dog\n",
            "\n",
            "The MD5 code for input string is:\n",
            "\t= 0x24a989647fe66a18ec242ce10f7bd7a8\n",
            "\n",
            "MD5 Encryption Successfully Completed!!!\n",
            "\n"
          ]
        }
      ],
      "source": [
        "import math\n",
        "import struct\n",
        "\n",
        "\n",
        "class MD5union:\n",
        "    def __init__(self):\n",
        "        self.w = 0\n",
        "        self.b = bytearray(4)\n",
        "\n",
        "\n",
        "def func0(abcd: list[int]) -> int:\n",
        "    return (abcd[1] & abcd[2]) | (~abcd[1] & abcd[3])\n",
        "\n",
        "\n",
        "def func1(abcd: list[int]) -> int:\n",
        "    return (abcd[3] & abcd[1]) | (~abcd[3] & abcd[2])\n",
        "\n",
        "\n",
        "def func2(abcd: list[int]) -> int:\n",
        "    return abcd[1] ^ abcd[2] ^ abcd[3]\n",
        "\n",
        "\n",
        "def func3(abcd: list[int]) -> int:\n",
        "    return abcd[2] ^ (abcd[1] | ~abcd[3])\n",
        "\n",
        "\n",
        "def calctable(k: list[int]) -> list[int]:\n",
        "    pwr = 2 ** 32\n",
        "    for i in range(64):\n",
        "        s = abs(math.sin(1 + i))\n",
        "        k[i] = int(s * pwr)\n",
        "    return k\n",
        "\n",
        "\n",
        "def rol(r: int, N: int) -> int:\n",
        "    \"\"\"Left rotate a 32-bit integer.\"\"\"\n",
        "    return ((r << N) | (r >> (32 - N))) & 0xFFFFFFFF\n",
        "\n",
        "\n",
        "def md5(msg: str, mlen: int):\n",
        "    \"\"\"Custom implementation of the MD5 hashing algorithm.\"\"\"\n",
        "    h0 = [0x67452301, 0xEFCDAB89, 0x98BADCFE, 0x10325476]\n",
        "    ff = [func0, func1, func2, func3]\n",
        "    M = [1, 5, 3, 7]\n",
        "    O = [0, 1, 5, 0]\n",
        "    rot0 = [7, 12, 17, 22]\n",
        "    rot1 = [5, 9, 14, 20]\n",
        "    rot2 = [4, 11, 16, 23]\n",
        "    rot3 = [6, 10, 15, 21]\n",
        "    rots = [rot0, rot1, rot2, rot3]\n",
        "\n",
        "    kspace = [0] * 64\n",
        "    k = calctable(kspace)\n",
        "    h = h0.copy()\n",
        "\n",
        "    grps = 1 + (mlen + 8) // 64\n",
        "    msg2 = bytearray(64 * grps)\n",
        "    msg2[:mlen] = msg.encode()\n",
        "    msg2[mlen] = 0x80\n",
        "\n",
        "    u = struct.pack(\"<I\", 8 * mlen)\n",
        "    msg2[-8:-4] = u\n",
        "\n",
        "    for grp in range(grps):\n",
        "        mm = msg2[grp * 64:(grp + 1) * 64]\n",
        "        abcd = h.copy()\n",
        "        for p in range(4):\n",
        "            fctn = ff[p]\n",
        "            rotn = rots[p]\n",
        "            m, o = M[p], O[p]\n",
        "            for q in range(16):\n",
        "                g = (m * q + o) % 16\n",
        "                f = (abcd[1] + rol(\n",
        "                    abcd[0] + fctn(abcd) + k[q + 16 * p] +\n",
        "                    struct.unpack(\"<I\", mm[4 * g:4 * g + 4])[0],\n",
        "                    rotn[q % 4]\n",
        "                )) & 0xFFFFFFFF\n",
        "                abcd = [abcd[3], f, abcd[1], abcd[2]]\n",
        "        h = [(h[i] + abcd[i]) & 0xFFFFFFFF for i in range(4)]\n",
        "\n",
        "    return h\n",
        "\n",
        "\n",
        "def main():\n",
        "    msg = \"The quick brown fox jumps over the lazy dog\"\n",
        "    d = md5(msg, len(msg))\n",
        "    print(\"\\tMD5 ENCRYPTION ALGORITHM IN PYTHON\\n\")\n",
        "    print(f\"Input String to be Encrypted using MD5:\\n\\t{msg}\")\n",
        "    print(\"\\nThe MD5 code for input string is:\")\n",
        "    print(\"\\t= 0x\", end=\"\")\n",
        "    for val in d:\n",
        "        print(f\"{val:08x}\", end=\"\")\n",
        "    print(\"\\n\\nMD5 Encryption Successfully Completed!!!\\n\")\n",
        "\n",
        "\n",
        "if __name__ == \"__main__\":\n",
        "    main()\n"
      ]
    }
  ]
}