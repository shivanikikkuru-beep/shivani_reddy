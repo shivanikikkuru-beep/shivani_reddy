{
  "nbformat": 4,
  "nbformat_minor": 0,
  "metadata": {
    "colab": {
      "provenance": [],
      "authorship_tag": "ABX9TyM4B7335HRjBShIdBpM6ElW",
      "include_colab_link": true
    },
    "kernelspec": {
      "name": "python3",
      "display_name": "Python 3"
    },
    "language_info": {
      "name": "python"
    }
  },
  "cells": [
    {
      "cell_type": "markdown",
      "metadata": {
        "id": "view-in-github",
        "colab_type": "text"
      },
      "source": [
        "<a href=\"https://colab.research.google.com/github/shivanikikkuru-beep/shivani_reddy/blob/main/exp_2(a).ipynb\" target=\"_parent\"><img src=\"https://colab.research.google.com/assets/colab-badge.svg\" alt=\"Open In Colab\"/></a>"
      ]
    },
    {
      "cell_type": "code",
      "metadata": {
        "colab": {
          "base_uri": "https://localhost:8080/"
        },
        "id": "7cbdc22c",
        "outputId": "77de2e15-0ebf-49c9-f273-01d74492ccbc"
      },
      "source": [
        "!pip install pycryptodome"
      ],
      "execution_count": 4,
      "outputs": [
        {
          "output_type": "stream",
          "name": "stdout",
          "text": [
            "Collecting pycryptodome\n",
            "  Downloading pycryptodome-3.23.0-cp37-abi3-manylinux_2_17_x86_64.manylinux2014_x86_64.whl.metadata (3.4 kB)\n",
            "Downloading pycryptodome-3.23.0-cp37-abi3-manylinux_2_17_x86_64.manylinux2014_x86_64.whl (2.3 MB)\n",
            "\u001b[?25l   \u001b[90m━━━━━━━━━━━━━━━━━━━━━━━━━━━━━━━━━━━━━━━━\u001b[0m \u001b[32m0.0/2.3 MB\u001b[0m \u001b[31m?\u001b[0m eta \u001b[36m-:--:--\u001b[0m\r\u001b[2K   \u001b[91m━━━━━━━━━━━━━━━━━━━━━━\u001b[0m\u001b[90m╺\u001b[0m\u001b[90m━━━━━━━━━━━━━━━━━\u001b[0m \u001b[32m1.3/2.3 MB\u001b[0m \u001b[31m39.0 MB/s\u001b[0m eta \u001b[36m0:00:01\u001b[0m\r\u001b[2K   \u001b[90m━━━━━━━━━━━━━━━━━━━━━━━━━━━━━━━━━━━━━━━━\u001b[0m \u001b[32m2.3/2.3 MB\u001b[0m \u001b[31m37.7 MB/s\u001b[0m eta \u001b[36m0:00:00\u001b[0m\n",
            "\u001b[?25hInstalling collected packages: pycryptodome\n",
            "Successfully installed pycryptodome-3.23.0\n"
          ]
        }
      ]
    },
    {
      "cell_type": "code",
      "metadata": {
        "colab": {
          "base_uri": "https://localhost:8080/"
        },
        "id": "52d12609",
        "outputId": "847fd4d0-e806-47a8-f07c-3f26254d02ae"
      },
      "source": [
        "from Crypto.Cipher import DES\n",
        "from Crypto.Util.Padding import pad, unpad\n",
        "from Crypto.Random import get_random_bytes\n",
        "import binascii\n",
        "\n",
        "class DESExample:\n",
        "    def __init__(self):\n",
        "        self.raw_key = self.generate_symmetric_key()\n",
        "        self.input_message = input(\"Enter message to encrypt: \")\n",
        "\n",
        "        # Encrypt the input message\n",
        "        encrypted_data = self.encrypt(self.raw_key, self.input_message.encode())\n",
        "        print(\"\\nEncrypted message (hex):\", binascii.hexlify(encrypted_data).decode())\n",
        "\n",
        "        # Decrypt the message\n",
        "        decrypted_message = self.decrypt(self.raw_key, encrypted_data)\n",
        "        print(\"Decrypted message:\", decrypted_message.decode())\n",
        "\n",
        "    def generate_symmetric_key(self):\n",
        "        \"\"\"Generate a random 8-byte DES key.\"\"\"\n",
        "        key = get_random_bytes(8)\n",
        "        print(\"DES Symmetric key (hex):\", binascii.hexlify(key).decode())\n",
        "        return key\n",
        "\n",
        "    def encrypt(self, key, clear):\n",
        "        \"\"\"Encrypt plaintext using DES (CBC mode).\"\"\"\n",
        "        cipher = DES.new(key, DES.MODE_CBC)\n",
        "        padded_clear = pad(clear, DES.block_size)\n",
        "        iv = cipher.iv\n",
        "        encrypted = iv + cipher.encrypt(padded_clear)  # Prepend IV\n",
        "        return encrypted\n",
        "\n",
        "    def decrypt(self, key, encrypted):\n",
        "        \"\"\"Decrypt ciphertext using DES (CBC mode).\"\"\"\n",
        "        iv = encrypted[:DES.block_size]\n",
        "        ciphertext = encrypted[DES.block_size:]\n",
        "        cipher = DES.new(key, DES.MODE_CBC, iv)\n",
        "        decrypted_padded_clear = cipher.decrypt(ciphertext)\n",
        "        return unpad(decrypted_padded_clear, DES.block_size)\n",
        "\n",
        "\n",
        "if __name__ == \"__main__\":\n",
        "    DESExample()"
      ],
      "execution_count": 5,
      "outputs": [
        {
          "output_type": "stream",
          "name": "stdout",
          "text": [
            "DES Symmetric key (hex): 9f44ad4dde5e5802\n",
            "Enter message to encrypt: hello\n",
            "\n",
            "Encrypted message (hex): 2be6c3fd6011066ac78136286c0d3890\n",
            "Decrypted message: hello\n"
          ]
        }
      ]
    }
  ]
}