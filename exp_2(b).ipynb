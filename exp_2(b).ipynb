{
  "nbformat": 4,
  "nbformat_minor": 0,
  "metadata": {
    "colab": {
      "provenance": [],
      "authorship_tag": "ABX9TyPxHli8xhqvVvIlUVVm4HVE",
      "include_colab_link": true
    },
    "kernelspec": {
      "name": "python3",
      "display_name": "Python 3"
    },
    "language_info": {
      "name": "python"
    }
  },
  "cells": [
    {
      "cell_type": "markdown",
      "metadata": {
        "id": "view-in-github",
        "colab_type": "text"
      },
      "source": [
        "<a href=\"https://colab.research.google.com/github/shivanikikkuru-beep/shivani_reddy/blob/main/exp_2(b).ipynb\" target=\"_parent\"><img src=\"https://colab.research.google.com/assets/colab-badge.svg\" alt=\"Open In Colab\"/></a>"
      ]
    },
    {
      "cell_type": "code",
      "execution_count": 2,
      "metadata": {
        "colab": {
          "base_uri": "https://localhost:8080/"
        },
        "id": "djIxFA6jzpWx",
        "outputId": "dc17a867-0839-4b6f-da6e-d22a48fae83b"
      },
      "outputs": [
        {
          "output_type": "stream",
          "name": "stdout",
          "text": [
            "\n",
            "ENTER FIRST PRIME NUMBER\n",
            "2\n",
            "\n",
            "ENTER ANOTHER PRIME NUMBER\n",
            "7\n",
            "\n",
            "ENTER MESSAGE\n",
            "hello\n",
            "\n",
            "POSSIBLE VALUES OF e AND d ARE\n",
            "\n",
            "5\t5\n",
            "\n",
            "THE ENCRYPTED MESSAGE IS\n",
            "hcjja\n",
            "\n",
            "THE DECRYPTED MESSAGE IS\n",
            "hella\n"
          ]
        }
      ],
      "source": [
        "import math\n",
        "p, q, n, t = 0, 0, 0, 0\n",
        "flag = 0\n",
        "e, d, temp, m, en = [], [], [], [], []\n",
        "msg = \"\"\n",
        "def prime(pr):\n",
        "    j = int(math.sqrt(pr))\n",
        "    for i in range(2, j + 1):\n",
        "        if pr % i == 0:\n",
        "            return 0\n",
        "    return 1\n",
        "def gcd(a, b):\n",
        "    while b:\n",
        "        a, b = b, a % b\n",
        "    return a\n",
        "\n",
        "def ce():\n",
        "    global e, d, t\n",
        "    k = 0\n",
        "    for i in range(2, t):\n",
        "        if gcd(i, t) == 1:\n",
        "            e.append(i)\n",
        "            flag = cd(e[k])\n",
        "            if flag > 0:\n",
        "                d.append(flag)\n",
        "                k += 1\n",
        "            if k == 99:\n",
        "                break\n",
        "def cd(x):\n",
        "    k = 1\n",
        "    while True:\n",
        "        k = k + t\n",
        "        if k % x == 0:\n",
        "            return k // x\n",
        "def encrypt():\n",
        "    global msg, m, n, e, en, temp\n",
        "    key = e[0]\n",
        "    temp = []  # Clear temp for each encryption\n",
        "    en = [] # Clear en for each encryption\n",
        "    for i, char in enumerate(msg):\n",
        "        pt = ord(char) - 96\n",
        "        k = pow(pt, key, n)\n",
        "        temp.append(k)\n",
        "        ct = k + 96\n",
        "        en.append(ct)\n",
        "    en.append(-1)\n",
        "    print(\"\\nTHE ENCRYPTED MESSAGE IS\")\n",
        "    print(''.join(chr(c) for c in en[:-1]))\n",
        "def decrypt():\n",
        "    global temp, n, d, m, en\n",
        "    key = d[0]\n",
        "    m = [] # Clear m for each decryption\n",
        "    i = 0\n",
        "    while en[i] != -1:\n",
        "        ct = temp[i]\n",
        "        k = pow(ct, key, n)\n",
        "        pt = k + 96\n",
        "        m.append(pt)\n",
        "        i += 1\n",
        "    m.append(-1)\n",
        "    print(\"\\nTHE DECRYPTED MESSAGE IS\")\n",
        "    print(''.join(chr(c) for c in m[:-1]))\n",
        "\n",
        "def main():\n",
        "    global p, q, n, t, msg, m, e, d\n",
        "    print(\"\\nENTER FIRST PRIME NUMBER\")\n",
        "    p = int(input())\n",
        "    flag = prime(p)\n",
        "    if flag == 0:\n",
        "        print(\"\\nWRONG INPUT\")\n",
        "        return\n",
        "    print(\"\\nENTER ANOTHER PRIME NUMBER\")\n",
        "    q = int(input())\n",
        "    flag = prime(q)\n",
        "    if flag == 0 or p == q:\n",
        "        print(\"\\nWRONG INPUT\")\n",
        "        return\n",
        "    print(\"\\nENTER MESSAGE\")\n",
        "    msg = input()\n",
        "    m = [ord(c) for c in msg]\n",
        "    n = p * q\n",
        "    t = (p - 1) * (q - 1)\n",
        "    e = [] # Clear e before populating\n",
        "    d = [] # Clear d before populating\n",
        "    ce()\n",
        "    if not e or not d:\n",
        "        print(\"\\nNo valid e and d pairs found for the given prime numbers.\")\n",
        "        return\n",
        "\n",
        "    print(\"\\nPOSSIBLE VALUES OF e AND d ARE\")\n",
        "    for i in range(len(e)):\n",
        "        print(f\"\\n{e[i]}\\t{d[i]}\")\n",
        "    encrypt()\n",
        "    decrypt()\n",
        "if __name__ == \"__main__\":\n",
        "    main()"
      ]
    }
  ]
}