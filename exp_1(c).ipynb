{
  "nbformat": 4,
  "nbformat_minor": 0,
  "metadata": {
    "colab": {
      "provenance": [],
      "authorship_tag": "ABX9TyP3SIORlpj7TmdTybK6aNWX",
      "include_colab_link": true
    },
    "kernelspec": {
      "name": "python3",
      "display_name": "Python 3"
    },
    "language_info": {
      "name": "python"
    }
  },
  "cells": [
    {
      "cell_type": "markdown",
      "metadata": {
        "id": "view-in-github",
        "colab_type": "text"
      },
      "source": [
        "<a href=\"https://colab.research.google.com/github/shivanikikkuru-beep/shivani_reddy/blob/main/exp_1(c).ipynb\" target=\"_parent\"><img src=\"https://colab.research.google.com/assets/colab-badge.svg\" alt=\"Open In Colab\"/></a>"
      ]
    },
    {
      "cell_type": "code",
      "execution_count": 1,
      "metadata": {
        "colab": {
          "base_uri": "https://localhost:8080/"
        },
        "id": "aNeBBMpLtijM",
        "outputId": "088aa3de-7b6a-43d6-acfd-c58e060536d8"
      },
      "outputs": [
        {
          "output_type": "stream",
          "name": "stdout",
          "text": [
            "Enter plain text (3 letters only, A–Z): DAT\n",
            "\n",
            "Numeric equivalent of plain text:\n",
            "D -> 3\n",
            "A -> 0\n",
            "T -> 19\n",
            "\n",
            "Encrypted Cipher Text: LVH\n",
            "Decrypted Plain Text: DAT\n"
          ]
        }
      ],
      "source": [
        "import numpy as np\n",
        "\n",
        "def main():\n",
        "    # Encryption and decryption matrices (inverse mod 26)\n",
        "    a = np.array([[6, 24, 1],\n",
        "                  [13, 16, 10],\n",
        "                  [20, 17, 15]], dtype=np.uint32)  # Encryption key\n",
        "    b = np.array([[8, 5, 10],\n",
        "                  [21, 8, 21],\n",
        "                  [21, 12, 8]], dtype=np.uint32)  # Decryption key\n",
        "\n",
        "    c = [0] * 20\n",
        "    d = [0] * 20\n",
        "\n",
        "    msg = input(\"Enter plain text (3 letters only, A–Z): \").upper()\n",
        "\n",
        "    # Ensure the message length is 3 (for 3x3 Hill Cipher)\n",
        "    if len(msg) != 3:\n",
        "        print(\"⚠️ Please enter exactly 3 letters (A–Z only).\")\n",
        "        return\n",
        "\n",
        "    # Convert plaintext to numeric values\n",
        "    print(\"\\nNumeric equivalent of plain text:\")\n",
        "    for i in range(3):\n",
        "        c[i] = ord(msg[i]) - 65\n",
        "        print(f\"{msg[i]} -> {c[i]}\")\n",
        "\n",
        "    # Encrypt using matrix 'a'\n",
        "    for i in range(3):\n",
        "        t = 0\n",
        "        for j in range(3):\n",
        "            t += a[i][j] * c[j]\n",
        "        d[i] = t % 26\n",
        "\n",
        "    print(\"\\nEncrypted Cipher Text:\", end=\" \")\n",
        "    for i in range(3):\n",
        "        print(chr(d[i] + 65), end=\"\")\n",
        "    print()\n",
        "\n",
        "    # Decrypt using matrix 'b'\n",
        "    for i in range(3):\n",
        "        t = 0\n",
        "        for j in range(3):\n",
        "            t += b[i][j] * d[j]\n",
        "        c[i] = t % 26\n",
        "\n",
        "    print(\"Decrypted Plain Text:\", end=\" \")\n",
        "    for i in range(3):\n",
        "        print(chr(c[i] + 65), end=\"\")\n",
        "    print()\n",
        "\n",
        "\n",
        "if __name__ == \"__main__\":\n",
        "    main()\n"
      ]
    }
  ]
}