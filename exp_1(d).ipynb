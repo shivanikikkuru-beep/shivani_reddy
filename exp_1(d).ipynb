{
  "nbformat": 4,
  "nbformat_minor": 0,
  "metadata": {
    "colab": {
      "provenance": [],
      "authorship_tag": "ABX9TyOOegyI+4ASfPbbOy5QzUvj",
      "include_colab_link": true
    },
    "kernelspec": {
      "name": "python3",
      "display_name": "Python 3"
    },
    "language_info": {
      "name": "python"
    }
  },
  "cells": [
    {
      "cell_type": "markdown",
      "metadata": {
        "id": "view-in-github",
        "colab_type": "text"
      },
      "source": [
        "<a href=\"https://colab.research.google.com/github/shivanikikkuru-beep/shivani_reddy/blob/main/exp_1(d).ipynb\" target=\"_parent\"><img src=\"https://colab.research.google.com/assets/colab-badge.svg\" alt=\"Open In Colab\"/></a>"
      ]
    },
    {
      "cell_type": "code",
      "execution_count": 1,
      "metadata": {
        "colab": {
          "base_uri": "https://localhost:8080/"
        },
        "id": "7ghj7kH6u411",
        "outputId": "c60ce311-1313-45ec-89e0-e1b77e322a81"
      },
      "outputs": [
        {
          "output_type": "stream",
          "name": "stdout",
          "text": [
            "\n",
            "1. Encrypt Text\n",
            "2. Decrypt Text\n",
            "3. Exit\n",
            "\n",
            "Enter Your Choice: 2\n",
            "\n",
            "Enter Cipher Text: database\n",
            "Enter Key Value: 7\n",
            "\n",
            "Decrypted Plain Text: NKDKLKCO\n",
            "\n",
            "1. Encrypt Text\n",
            "2. Decrypt Text\n",
            "3. Exit\n",
            "\n",
            "Enter Your Choice: 3\n",
            "Exiting...\n"
          ]
        }
      ],
      "source": [
        "import string\n",
        "\n",
        "def encipher():\n",
        "    input_text = input(\"\\nEnter Plain Text: \").upper()\n",
        "    key = input(\"Enter Key Value: \").upper()\n",
        "    print(\"\\nResultant Cipher Text: \", end=\"\")\n",
        "\n",
        "    j = 0\n",
        "    for i in range(len(input_text)):\n",
        "        if input_text[i] not in string.ascii_uppercase:\n",
        "            print(input_text[i], end=\"\")  # Keep non-letters unchanged\n",
        "            continue\n",
        "        if j >= len(key):\n",
        "            j = 0\n",
        "        cipher_char = chr(((ord(input_text[i]) - 65 + ord(key[j]) - 65) % 26) + 65)\n",
        "        print(cipher_char, end=\"\")\n",
        "        j += 1\n",
        "    print()\n",
        "\n",
        "\n",
        "def decipher():\n",
        "    input_text = input(\"\\nEnter Cipher Text: \").upper()\n",
        "    key = input(\"Enter Key Value: \").upper()\n",
        "    print(\"\\nDecrypted Plain Text: \", end=\"\")\n",
        "\n",
        "    j = 0\n",
        "    for i in range(len(input_text)):\n",
        "        if input_text[i] not in string.ascii_uppercase:\n",
        "            print(input_text[i], end=\"\")  # Keep non-letters unchanged\n",
        "            continue\n",
        "        if j >= len(key):\n",
        "            j = 0\n",
        "        # Correct decryption formula\n",
        "        plain_char = chr(((ord(input_text[i]) - ord(key[j]) + 26) % 26) + 65)\n",
        "        print(plain_char, end=\"\")\n",
        "        j += 1\n",
        "    print()\n",
        "\n",
        "\n",
        "def main():\n",
        "    while True:\n",
        "        print(\"\\n1. Encrypt Text\")\n",
        "        print(\"2. Decrypt Text\")\n",
        "        print(\"3. Exit\")\n",
        "\n",
        "        choice = int(input(\"\\nEnter Your Choice: \"))\n",
        "\n",
        "        if choice == 3:\n",
        "            print(\"Exiting...\")\n",
        "            break\n",
        "        elif choice == 1:\n",
        "            encipher()\n",
        "        elif choice == 2:\n",
        "            decipher()\n",
        "        else:\n",
        "            print(\"Please Enter a Valid Option.\")\n",
        "\n",
        "\n",
        "if __name__ == \"__main__\":\n",
        "    main()\n"
      ]
    }
  ]
}