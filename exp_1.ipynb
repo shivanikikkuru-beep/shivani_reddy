{
  "nbformat": 4,
  "nbformat_minor": 0,
  "metadata": {
    "colab": {
      "provenance": [],
      "authorship_tag": "ABX9TyPFiyjG09I/oQymkGTofso2",
      "include_colab_link": true
    },
    "kernelspec": {
      "name": "python3",
      "display_name": "Python 3"
    },
    "language_info": {
      "name": "python"
    }
  },
  "cells": [
    {
      "cell_type": "markdown",
      "metadata": {
        "id": "view-in-github",
        "colab_type": "text"
      },
      "source": [
        "<a href=\"https://colab.research.google.com/github/shivanikikkuru-beep/shivani_reddy/blob/main/exp_1.ipynb\" target=\"_parent\"><img src=\"https://colab.research.google.com/assets/colab-badge.svg\" alt=\"Open In Colab\"/></a>"
      ]
    },
    {
      "cell_type": "code",
      "execution_count": 2,
      "metadata": {
        "colab": {
          "base_uri": "https://localhost:8080/"
        },
        "id": "BYWGtfpSovf7",
        "outputId": "db79f313-61cc-4013-f183-92394d1fe2e9"
      },
      "outputs": [
        {
          "output_type": "stream",
          "name": "stdout",
          "text": [
            "Enter the plain text: shivani\n",
            "Enter the key value: 27\n",
            "\n",
            "\tPLAIN TEXT: shivani\n",
            "\n",
            "\tENCRYPTED TEXT: t i j w b o j \n",
            "\n",
            "\tAFTER DECRYPTION: s h i v a n i \n"
          ]
        }
      ],
      "source": [
        "def caesar_cipher():\n",
        "    plain = input(\"Enter the plain text: \")\n",
        "    key = int(input(\"Enter the key value: \"))\n",
        "    print(\"\\n\\tPLAIN TEXT:\", plain)\n",
        "    print(\"\\n\\tENCRYPTED TEXT:\", end=' ')\n",
        "\n",
        "    cipher = ''\n",
        "    for char in plain:\n",
        "        if char.isupper():\n",
        "            cipher_char = chr((ord(char) + key - 65) % 26 + 65)\n",
        "        elif char.islower():\n",
        "            cipher_char = chr((ord(char) + key - 97) % 26 + 97)\n",
        "        else:\n",
        "            cipher_char = char  # Non-alphabetic characters remain unchanged\n",
        "        cipher += cipher_char\n",
        "        print(cipher_char, end=' ')\n",
        "\n",
        "    print(\"\\n\\n\\tAFTER DECRYPTION:\", end=' ')\n",
        "\n",
        "    decrypted = ''\n",
        "    for char in cipher:\n",
        "        if char.isupper():\n",
        "            plain_char = chr((ord(char) - key - 65) % 26 + 65)\n",
        "        elif char.islower():\n",
        "            plain_char = chr((ord(char) - key - 97) % 26 + 97)\n",
        "        else:\n",
        "            plain_char = char  # Non-alphabetic characters remain unchanged\n",
        "        decrypted += plain_char\n",
        "        print(plain_char, end=' ')\n",
        "    print()\n",
        "\n",
        "\n",
        "if __name__ == \"__main__\":\n",
        "    caesar_cipher()\n"
      ]
    }
  ]
}