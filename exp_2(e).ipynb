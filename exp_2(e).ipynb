{
  "nbformat": 4,
  "nbformat_minor": 0,
  "metadata": {
    "colab": {
      "provenance": [],
      "authorship_tag": "ABX9TyPZmpL5VfZ17IQ+WnnCVs6u",
      "include_colab_link": true
    },
    "kernelspec": {
      "name": "python3",
      "display_name": "Python 3"
    },
    "language_info": {
      "name": "python"
    }
  },
  "cells": [
    {
      "cell_type": "markdown",
      "metadata": {
        "id": "view-in-github",
        "colab_type": "text"
      },
      "source": [
        "<a href=\"https://colab.research.google.com/github/shivanikikkuru-beep/shivani_reddy/blob/main/exp_2(e).ipynb\" target=\"_parent\"><img src=\"https://colab.research.google.com/assets/colab-badge.svg\" alt=\"Open In Colab\"/></a>"
      ]
    },
    {
      "cell_type": "code",
      "execution_count": 2,
      "metadata": {
        "colab": {
          "base_uri": "https://localhost:8080/"
        },
        "id": "QJsa4LXv18uC",
        "outputId": "b8809e69-1c8f-495c-84c6-25df753055f5"
      },
      "outputs": [
        {
          "output_type": "stream",
          "name": "stdout",
          "text": [
            "Message Digest Object Info:\n",
            " Algorithm  = SHA1\n",
            " Library    = hashlib\n",
            " Object     = <sha1 _hashlib.HASH object @ 0x7be563328cd0>\n",
            "\n",
            "SHA1(\"\") = DA39A3EE5E6B4B0D3255BFEF95601890AFD80709\n",
            "SHA1(\"abc\") = A9993E364706816ABA3E25717850C26C9CD0D89D\n",
            "SHA1(\"abcdefghijklmnopqrstuvwxyz\") = 32D10C7B8CF96570CA04CE37F2A19D84240D3A89\n",
            "\n",
            "Enter any custom text to hash using SHA1: 3\n",
            "SHA1(\"3\") = 77DE68DAECD823BABBB58EDB1C8E14D7106E83BB\n"
          ]
        }
      ],
      "source": [
        "import hashlib\n",
        "\n",
        "def bytes_to_hex(b):\n",
        "    \"\"\"Convert bytes to hexadecimal string.\"\"\"\n",
        "    return ''.join([f'{byte:02X}' for byte in b])\n",
        "\n",
        "\n",
        "def sha1():\n",
        "    try:\n",
        "        # Create SHA1 object\n",
        "        md = hashlib.sha1()\n",
        "        print(\"Message Digest Object Info:\")\n",
        "        print(f\" Algorithm  = {md.name.upper()}\")\n",
        "        print(f\" Library    = {hashlib.__name__}\")\n",
        "        print(f\" Object     = {md}\")\n",
        "\n",
        "        # Example 1: Empty string\n",
        "        input_str = \"\"\n",
        "        md.update(input_str.encode())\n",
        "        output = md.digest()\n",
        "        print(f\"\\nSHA1(\\\"{input_str}\\\") = {bytes_to_hex(output)}\")\n",
        "\n",
        "        # Example 2: Simple string\n",
        "        input_str = \"abc\"\n",
        "        md = hashlib.sha1()\n",
        "        md.update(input_str.encode())\n",
        "        output = md.digest()\n",
        "        print(f\"SHA1(\\\"{input_str}\\\") = {bytes_to_hex(output)}\")\n",
        "\n",
        "        # Example 3: Alphabet string\n",
        "        input_str = \"abcdefghijklmnopqrstuvwxyz\"\n",
        "        md = hashlib.sha1()\n",
        "        md.update(input_str.encode())\n",
        "        output = md.digest()\n",
        "        print(f\"SHA1(\\\"{input_str}\\\") = {bytes_to_hex(output)}\")\n",
        "\n",
        "        # Example 4: Custom user input\n",
        "        user_input = input(\"\\nEnter any custom text to hash using SHA1: \")\n",
        "        md = hashlib.sha1()\n",
        "        md.update(user_input.encode())\n",
        "        print(f\"SHA1(\\\"{user_input}\\\") = {bytes_to_hex(md.digest())}\")\n",
        "\n",
        "    except Exception as e:\n",
        "        print(f\"An error occurred: {e}\")\n",
        "\n",
        "sha1()"
      ]
    }
  ]
}